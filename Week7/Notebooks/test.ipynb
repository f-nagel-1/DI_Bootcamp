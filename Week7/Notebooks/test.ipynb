{
 "cells": [
  {
   "cell_type": "code",
   "execution_count": 1,
   "id": "174579e9",
   "metadata": {},
   "outputs": [],
   "source": [
    "import numpy as np"
   ]
  },
  {
   "cell_type": "code",
   "execution_count": 2,
   "id": "65632e3c",
   "metadata": {},
   "outputs": [
    {
     "data": {
      "text/plain": [
       "array([   2,    4,    6,    8,   13, 2020])"
      ]
     },
     "execution_count": 2,
     "metadata": {},
     "output_type": "execute_result"
    }
   ],
   "source": [
    "lst = [2, 4, 6, 8, 13, 2020]\n",
    "numpy_arr = np.array(lst)\n",
    "numpy_arr"
   ]
  },
  {
   "cell_type": "code",
   "execution_count": 3,
   "id": "a984f8ed",
   "metadata": {},
   "outputs": [
    {
     "data": {
      "text/plain": [
       "4"
      ]
     },
     "execution_count": 3,
     "metadata": {},
     "output_type": "execute_result"
    }
   ],
   "source": [
    "numpy_arr[1]\n"
   ]
  },
  {
   "cell_type": "code",
   "execution_count": 4,
   "id": "bf8a54df",
   "metadata": {},
   "outputs": [
    {
     "name": "stdout",
     "output_type": "stream",
     "text": [
      "[   2    4    6    8   13 2020]\n"
     ]
    }
   ],
   "source": [
    "print(numpy_arr)"
   ]
  },
  {
   "cell_type": "code",
   "execution_count": 5,
   "id": "df2b05af",
   "metadata": {},
   "outputs": [
    {
     "name": "stdout",
     "output_type": "stream",
     "text": [
      "2\n",
      "\n",
      "\n",
      "750.3577850302851\n",
      "\n",
      "\n",
      "10083840\n",
      "\n",
      "\n",
      "4080689\n",
      "\n",
      "\n",
      "[  -2    0    2    4    9 2016]\n"
     ]
    }
   ],
   "source": [
    "def np_calc(arr):\n",
    "    return arr.min(),np.std(arr),np.prod(arr),np.dot(arr,arr),arr-4\n",
    "\n",
    "arr_min,arr_std,arr_prod,arr_dot,arr_minus_four=np_calc(numpy_arr)\n",
    "print(arr_min)\n",
    "print(\"\\n\")\n",
    "print(arr_std)\n",
    "print(\"\\n\")\n",
    "print(arr_prod)\n",
    "print(\"\\n\")\n",
    "print(arr_dot)\n",
    "print(\"\\n\")\n",
    "print(arr_minus_four)"
   ]
  },
  {
   "cell_type": "code",
   "execution_count": 6,
   "id": "e1bc83ab",
   "metadata": {},
   "outputs": [
    {
     "ename": "NameError",
     "evalue": "name 'arr' is not defined",
     "output_type": "error",
     "traceback": [
      "\u001b[1;31m---------------------------------------------------------------------------\u001b[0m",
      "\u001b[1;31mNameError\u001b[0m                                 Traceback (most recent call last)",
      "\u001b[1;32m~\\AppData\\Local\\Temp/ipykernel_20352/202274347.py\u001b[0m in \u001b[0;36m<module>\u001b[1;34m\u001b[0m\n\u001b[0;32m      2\u001b[0m     \u001b[1;32mreturn\u001b[0m \u001b[0mnumpy_arr\u001b[0m\u001b[1;33m.\u001b[0m\u001b[0mmin\u001b[0m\u001b[1;33m(\u001b[0m\u001b[1;33m)\u001b[0m\u001b[1;33m,\u001b[0m\u001b[0mnp\u001b[0m\u001b[1;33m.\u001b[0m\u001b[0mstd\u001b[0m\u001b[1;33m(\u001b[0m\u001b[0marr\u001b[0m\u001b[1;33m)\u001b[0m\u001b[1;33m,\u001b[0m\u001b[0mnp\u001b[0m\u001b[1;33m.\u001b[0m\u001b[0mprod\u001b[0m\u001b[1;33m(\u001b[0m\u001b[0marr\u001b[0m\u001b[1;33m)\u001b[0m\u001b[1;33m,\u001b[0m\u001b[0mnp\u001b[0m\u001b[1;33m.\u001b[0m\u001b[0mdot\u001b[0m\u001b[1;33m(\u001b[0m\u001b[0marr\u001b[0m\u001b[1;33m,\u001b[0m\u001b[0marr\u001b[0m\u001b[1;33m)\u001b[0m\u001b[1;33m,\u001b[0m\u001b[0marr\u001b[0m\u001b[1;33m-\u001b[0m\u001b[1;36m4\u001b[0m\u001b[1;33m\u001b[0m\u001b[1;33m\u001b[0m\u001b[0m\n\u001b[0;32m      3\u001b[0m \u001b[1;33m\u001b[0m\u001b[0m\n\u001b[1;32m----> 4\u001b[1;33m \u001b[0mnumpy_arr\u001b[0m\u001b[1;33m,\u001b[0m\u001b[0marr_std\u001b[0m\u001b[1;33m,\u001b[0m\u001b[0marr_prod\u001b[0m\u001b[1;33m,\u001b[0m\u001b[0marr_dot\u001b[0m\u001b[1;33m,\u001b[0m\u001b[0marr_minus_four\u001b[0m\u001b[1;33m=\u001b[0m\u001b[0mnp_calc\u001b[0m\u001b[1;33m(\u001b[0m\u001b[0mnumpy_arr\u001b[0m\u001b[1;33m)\u001b[0m\u001b[1;33m\u001b[0m\u001b[1;33m\u001b[0m\u001b[0m\n\u001b[0m\u001b[0;32m      5\u001b[0m \u001b[0mprint\u001b[0m\u001b[1;33m(\u001b[0m\u001b[0mnumpy_arr\u001b[0m\u001b[1;33m)\u001b[0m\u001b[1;33m\u001b[0m\u001b[1;33m\u001b[0m\u001b[0m\n",
      "\u001b[1;32m~\\AppData\\Local\\Temp/ipykernel_20352/202274347.py\u001b[0m in \u001b[0;36mnp_calc\u001b[1;34m(numpy_arr)\u001b[0m\n\u001b[0;32m      1\u001b[0m \u001b[1;32mdef\u001b[0m \u001b[0mnp_calc\u001b[0m\u001b[1;33m(\u001b[0m\u001b[0mnumpy_arr\u001b[0m\u001b[1;33m)\u001b[0m\u001b[1;33m:\u001b[0m\u001b[1;33m\u001b[0m\u001b[1;33m\u001b[0m\u001b[0m\n\u001b[1;32m----> 2\u001b[1;33m     \u001b[1;32mreturn\u001b[0m \u001b[0mnumpy_arr\u001b[0m\u001b[1;33m.\u001b[0m\u001b[0mmin\u001b[0m\u001b[1;33m(\u001b[0m\u001b[1;33m)\u001b[0m\u001b[1;33m,\u001b[0m\u001b[0mnp\u001b[0m\u001b[1;33m.\u001b[0m\u001b[0mstd\u001b[0m\u001b[1;33m(\u001b[0m\u001b[0marr\u001b[0m\u001b[1;33m)\u001b[0m\u001b[1;33m,\u001b[0m\u001b[0mnp\u001b[0m\u001b[1;33m.\u001b[0m\u001b[0mprod\u001b[0m\u001b[1;33m(\u001b[0m\u001b[0marr\u001b[0m\u001b[1;33m)\u001b[0m\u001b[1;33m,\u001b[0m\u001b[0mnp\u001b[0m\u001b[1;33m.\u001b[0m\u001b[0mdot\u001b[0m\u001b[1;33m(\u001b[0m\u001b[0marr\u001b[0m\u001b[1;33m,\u001b[0m\u001b[0marr\u001b[0m\u001b[1;33m)\u001b[0m\u001b[1;33m,\u001b[0m\u001b[0marr\u001b[0m\u001b[1;33m-\u001b[0m\u001b[1;36m4\u001b[0m\u001b[1;33m\u001b[0m\u001b[1;33m\u001b[0m\u001b[0m\n\u001b[0m\u001b[0;32m      3\u001b[0m \u001b[1;33m\u001b[0m\u001b[0m\n\u001b[0;32m      4\u001b[0m \u001b[0mnumpy_arr\u001b[0m\u001b[1;33m,\u001b[0m\u001b[0marr_std\u001b[0m\u001b[1;33m,\u001b[0m\u001b[0marr_prod\u001b[0m\u001b[1;33m,\u001b[0m\u001b[0marr_dot\u001b[0m\u001b[1;33m,\u001b[0m\u001b[0marr_minus_four\u001b[0m\u001b[1;33m=\u001b[0m\u001b[0mnp_calc\u001b[0m\u001b[1;33m(\u001b[0m\u001b[0mnumpy_arr\u001b[0m\u001b[1;33m)\u001b[0m\u001b[1;33m\u001b[0m\u001b[1;33m\u001b[0m\u001b[0m\n\u001b[0;32m      5\u001b[0m \u001b[0mprint\u001b[0m\u001b[1;33m(\u001b[0m\u001b[0mnumpy_arr\u001b[0m\u001b[1;33m)\u001b[0m\u001b[1;33m\u001b[0m\u001b[1;33m\u001b[0m\u001b[0m\n",
      "\u001b[1;31mNameError\u001b[0m: name 'arr' is not defined"
     ]
    }
   ],
   "source": [
    "def np_calc(numpy_arr):\n",
    "    return numpy_arr.min(),np.std(arr),np.prod(arr),np.dot(arr,arr),arr-4\n",
    "\n",
    "numpy_arr,arr_std,arr_prod,arr_dot,arr_minus_four=np_calc(numpy_arr)\n",
    "print(numpy_arr)"
   ]
  },
  {
   "cell_type": "code",
   "execution_count": 7,
   "id": "19dd7c9e",
   "metadata": {},
   "outputs": [
    {
     "name": "stdout",
     "output_type": "stream",
     "text": [
      "2\n"
     ]
    }
   ],
   "source": [
    "def np_calc(numpy_arr):\n",
    "    return numpy_arr.min()\n",
    "\n",
    "numpy_arr\n",
    "print(arr_min)"
   ]
  },
  {
   "cell_type": "code",
   "execution_count": null,
   "id": "40bf1e8c",
   "metadata": {},
   "outputs": [],
   "source": []
  }
 ],
 "metadata": {
  "kernelspec": {
   "display_name": "Python 3 (ipykernel)",
   "language": "python",
   "name": "python3"
  },
  "language_info": {
   "codemirror_mode": {
    "name": "ipython",
    "version": 3
   },
   "file_extension": ".py",
   "mimetype": "text/x-python",
   "name": "python",
   "nbconvert_exporter": "python",
   "pygments_lexer": "ipython3",
   "version": "3.10.0"
  }
 },
 "nbformat": 4,
 "nbformat_minor": 5
}
