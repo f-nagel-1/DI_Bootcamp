{
 "cells": [
  {
   "cell_type": "code",
   "execution_count": 1,
   "id": "de3f0dbc",
   "metadata": {},
   "outputs": [],
   "source": [
    "lst = [2, 4, 6, 8, 13, 2020]"
   ]
  },
  {
   "cell_type": "code",
   "execution_count": 2,
   "id": "bcd93523",
   "metadata": {},
   "outputs": [
    {
     "ename": "NameError",
     "evalue": "name 'np' is not defined",
     "output_type": "error",
     "traceback": [
      "\u001b[1;31m---------------------------------------------------------------------------\u001b[0m",
      "\u001b[1;31mNameError\u001b[0m                                 Traceback (most recent call last)",
      "\u001b[1;32m~\\AppData\\Local\\Temp/ipykernel_17240/3706486246.py\u001b[0m in \u001b[0;36m<module>\u001b[1;34m\u001b[0m\n\u001b[1;32m----> 1\u001b[1;33m \u001b[0mnumpy_arr\u001b[0m \u001b[1;33m=\u001b[0m \u001b[0mnp\u001b[0m\u001b[1;33m.\u001b[0m\u001b[0marray\u001b[0m\u001b[1;33m(\u001b[0m\u001b[0mlst\u001b[0m\u001b[1;33m)\u001b[0m\u001b[1;33m\u001b[0m\u001b[1;33m\u001b[0m\u001b[0m\n\u001b[0m",
      "\u001b[1;31mNameError\u001b[0m: name 'np' is not defined"
     ]
    }
   ],
   "source": [
    "numpy_arr = np.array(lst)"
   ]
  },
  {
   "cell_type": "code",
   "execution_count": 3,
   "id": "669fde13",
   "metadata": {},
   "outputs": [],
   "source": [
    "import numpy as np"
   ]
  },
  {
   "cell_type": "code",
   "execution_count": 4,
   "id": "92c2ff2d",
   "metadata": {},
   "outputs": [],
   "source": [
    "numpy_arr = np.array(lst)\n"
   ]
  },
  {
   "cell_type": "code",
   "execution_count": 5,
   "id": "e08d5c3e",
   "metadata": {},
   "outputs": [
    {
     "name": "stdout",
     "output_type": "stream",
     "text": [
      "please nr 1\n",
      "2\n"
     ]
    }
   ],
   "source": [
    "first_number = str(input('please nr 1\\n'))"
   ]
  },
  {
   "cell_type": "code",
   "execution_count": 6,
   "id": "a47e8414",
   "metadata": {},
   "outputs": [
    {
     "name": "stdout",
     "output_type": "stream",
     "text": [
      "please nr 2\n",
      "5\n"
     ]
    }
   ],
   "source": [
    "second_number = str(input('please nr 2\\n'))"
   ]
  },
  {
   "cell_type": "code",
   "execution_count": null,
   "id": "4f3631f9",
   "metadata": {},
   "outputs": [],
   "source": [
    "third_number = str(input('please nr 3\\n'))"
   ]
  },
  {
   "cell_type": "code",
   "execution_count": null,
   "id": "87a8d003",
   "metadata": {},
   "outputs": [],
   "source": [
    "numpy_arr = np.array(first_number, second_number, third_number)"
   ]
  },
  {
   "cell_type": "code",
   "execution_count": null,
   "id": "0eb24d6d",
   "metadata": {},
   "outputs": [],
   "source": [
    "print(numpy_arr)"
   ]
  },
  {
   "cell_type": "code",
   "execution_count": null,
   "id": "0bda76ee",
   "metadata": {},
   "outputs": [],
   "source": [
    "numpy_arr"
   ]
  },
  {
   "cell_type": "code",
   "execution_count": null,
   "id": "4ae6f71c",
   "metadata": {},
   "outputs": [],
   "source": [
    "def np_calc(arr):\n",
    "    return arr.min()"
   ]
  },
  {
   "cell_type": "code",
   "execution_count": null,
   "id": "e9c69685",
   "metadata": {},
   "outputs": [],
   "source": []
  },
  {
   "cell_type": "code",
   "execution_count": null,
   "id": "89024ea0",
   "metadata": {},
   "outputs": [],
   "source": [
    "print(arr.min)"
   ]
  },
  {
   "cell_type": "code",
   "execution_count": null,
   "id": "eb339503",
   "metadata": {},
   "outputs": [],
   "source": [
    "lst = [2, 4, 6, 8, 13, 2020]\n",
    "numpy_arr = np.array(lst)\n",
    "numpy_arr"
   ]
  },
  {
   "cell_type": "code",
   "execution_count": null,
   "id": "d4ce55f0",
   "metadata": {},
   "outputs": [],
   "source": [
    "numpy_arr.min()"
   ]
  },
  {
   "cell_type": "code",
   "execution_count": null,
   "id": "6d3ff808",
   "metadata": {},
   "outputs": [],
   "source": [
    "print(numpy_arr.min())"
   ]
  },
  {
   "cell_type": "code",
   "execution_count": null,
   "id": "d62f916a",
   "metadata": {},
   "outputs": [],
   "source": [
    "print(numpy_arr)"
   ]
  },
  {
   "cell_type": "code",
   "execution_count": null,
   "id": "76df3847",
   "metadata": {},
   "outputs": [],
   "source": []
  },
  {
   "cell_type": "code",
   "execution_count": null,
   "id": "36bbb6cd",
   "metadata": {},
   "outputs": [],
   "source": []
  }
 ],
 "metadata": {
  "kernelspec": {
   "display_name": "Python 3 (ipykernel)",
   "language": "python",
   "name": "python3"
  },
  "language_info": {
   "codemirror_mode": {
    "name": "ipython",
    "version": 3
   },
   "file_extension": ".py",
   "mimetype": "text/x-python",
   "name": "python",
   "nbconvert_exporter": "python",
   "pygments_lexer": "ipython3",
   "version": "3.10.0"
  }
 },
 "nbformat": 4,
 "nbformat_minor": 5
}
